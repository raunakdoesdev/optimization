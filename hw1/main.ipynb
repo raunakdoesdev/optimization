{
 "cells": [
  {
   "attachments": {},
   "cell_type": "markdown",
   "metadata": {},
   "source": [
    "# HW 1\n",
    "\n",
    "### Decision Variables\n",
    "Let $x_{i j}$ be the number of units of product $i$ to be produced in week $j$, where $i=$ $1,2, \\ldots, 100$ and $j=1,2, \\ldots, 52$.\n",
    "\n",
    "### Objective Function\n",
    "Maximize:\n",
    "Profit - Holding Cost $=\\sum_{i=1}^{100} \\sum_{j=1}^{52} x_{i j} \\times$ profit $_i-\\sum_{i=1}^{500} \\sum_{j=1}^{52}$ inventory $_{i j} \\times$ holding $_j$\n",
    "\n",
    "Constraints\n",
    "1. $x_{i j} \\leq \\operatorname{demand}_{i j}$ (cannot produce more than demand)\n",
    "2. inventory $_{i j} \\geq 0$ (inventory cannot be negative)\n",
    "3. Material availability constraint:\n",
    "$$\n",
    "\\text { inventory }_{i j}+\\sum_{k=1}^{100} x_{k j} \\times \\text { requirements }_{i k} \\leq \\text { availability }_{i j}\n",
    "$$"
   ]
  },
  {
   "cell_type": "code",
   "execution_count": 1,
   "metadata": {},
   "outputs": [
    {
     "name": "stderr",
     "output_type": "stream",
     "text": [
      "\u001b[32m\u001b[1m    Updating\u001b[22m\u001b[39m registry at `~/.julia/registries/General.toml`\n",
      "\u001b[32m\u001b[1m   Resolving\u001b[22m\u001b[39m package versions...\n"
     ]
    },
    {
     "name": "stderr",
     "output_type": "stream",
     "text": [
      "\u001b[32m\u001b[1m  No Changes\u001b[22m\u001b[39m to `~/.julia/environments/v1.9/Project.toml`\n",
      "\u001b[32m\u001b[1m  No Changes\u001b[22m\u001b[39m to `~/.julia/environments/v1.9/Manifest.toml`\n"
     ]
    },
    {
     "name": "stderr",
     "output_type": "stream",
     "text": [
      "\u001b[32m\u001b[1m   Resolving\u001b[22m\u001b[39m package versions...\n"
     ]
    },
    {
     "name": "stderr",
     "output_type": "stream",
     "text": [
      "\u001b[32m\u001b[1m  No Changes\u001b[22m\u001b[39m to `~/.julia/environments/v1.9/Project.toml`\n",
      "\u001b[32m\u001b[1m  No Changes\u001b[22m\u001b[39m to `~/.julia/environments/v1.9/Manifest.toml`\n"
     ]
    },
    {
     "name": "stderr",
     "output_type": "stream",
     "text": [
      "\u001b[32m\u001b[1m   Resolving\u001b[22m\u001b[39m package versions...\n",
      "\u001b[32m\u001b[1m  No Changes\u001b[22m\u001b[39m to `~/.julia/environments/v1.9/Project.toml`\n",
      "\u001b[32m\u001b[1m  No Changes\u001b[22m\u001b[39m to `~/.julia/environments/v1.9/Manifest.toml`\n"
     ]
    },
    {
     "name": "stderr",
     "output_type": "stream",
     "text": [
      "\u001b[32m\u001b[1m   Resolving\u001b[22m\u001b[39m package versions...\n"
     ]
    },
    {
     "name": "stderr",
     "output_type": "stream",
     "text": [
      "\u001b[32m\u001b[1m  No Changes\u001b[22m\u001b[39m to `~/.julia/environments/v1.9/Project.toml`\n",
      "\u001b[32m\u001b[1m  No Changes\u001b[22m\u001b[39m to `~/.julia/environments/v1.9/Manifest.toml`\n"
     ]
    }
   ],
   "source": [
    "using Pkg\n",
    "Pkg.add(\"CSV\")\n",
    "Pkg.add(\"DataFrames\")\n",
    "Pkg.add(\"JuMP\")\n",
    "Pkg.add(\"Gurobi\")"
   ]
  },
  {
   "cell_type": "code",
   "execution_count": 2,
   "metadata": {},
   "outputs": [],
   "source": [
    "using CSV, DataFrames, JuMP, Gurobi"
   ]
  },
  {
   "cell_type": "code",
   "execution_count": 3,
   "metadata": {},
   "outputs": [
    {
     "ename": "MethodError",
     "evalue": "MethodError: no method matching (Matrix)(::CSV.File)\n\nClosest candidates are:\n  (Array{T, N} where T)(::AbstractArray{S, N}) where {S, N}\n   @ Core boot.jl:498\n  (Matrix)(!Matched::Union{LinearAlgebra.QR, LinearAlgebra.QRCompactWY})\n   @ LinearAlgebra /Applications/Julia-1.9.app/Contents/Resources/julia/share/julia/stdlib/v1.9/LinearAlgebra/src/qr.jl:449\n  (Matrix)(!Matched::LinearAlgebra.Eigen)\n   @ LinearAlgebra /Applications/Julia-1.9.app/Contents/Resources/julia/share/julia/stdlib/v1.9/LinearAlgebra/src/eigen.jl:654\n  ...\n",
     "output_type": "error",
     "traceback": [
      "MethodError: no method matching (Matrix)(::CSV.File)\n",
      "\n",
      "Closest candidates are:\n",
      "  (Array{T, N} where T)(::AbstractArray{S, N}) where {S, N}\n",
      "   @ Core boot.jl:498\n",
      "  (Matrix)(!Matched::Union{LinearAlgebra.QR, LinearAlgebra.QRCompactWY})\n",
      "   @ LinearAlgebra /Applications/Julia-1.9.app/Contents/Resources/julia/share/julia/stdlib/v1.9/LinearAlgebra/src/qr.jl:449\n",
      "  (Matrix)(!Matched::LinearAlgebra.Eigen)\n",
      "   @ LinearAlgebra /Applications/Julia-1.9.app/Contents/Resources/julia/share/julia/stdlib/v1.9/LinearAlgebra/src/eigen.jl:654\n",
      "  ...\n",
      "\n",
      "\n",
      "Stacktrace:\n",
      " [1] top-level scope\n",
      "   @ ~/Documents/Projects/optimization/hw1/main.ipynb:1"
     ]
    }
   ],
   "source": [
    "# Load data\n",
    "availability = CSV.read(\"data/availability.csv\", DataFrame) |> Matrix\n",
    "demand = CSV.read(\"data/demand.csv\", DataFrame) |> Matrix\n",
    "holding = CSV.read(\"data/holding.csv\", DataFrame) |> Vector\n",
    "profit = CSV.read(\"data/profit.csv\", DataFrame) |> Vector\n",
    "requirements = CSV.read(\"data/requirements.csv\", DataFrame) |> Matrix\n",
    "\n",
    "\n",
    "num_products = 100\n",
    "num_weeks = 52\n",
    "num_materials = 500\n",
    "\n",
    "# Initialize the model\n",
    "model = Model(Gurobi.Optimizer)\n",
    "\n",
    "# Decision variables\n",
    "@variable(model, x[1:num_products, 1:num_weeks] >= 0)\n",
    "@variable(model, inventory[1:num_materials, 1:num_weeks] >= 0)\n",
    "\n",
    "# Objective function\n",
    "@objective(model, Max, sum(x[i, j] * profit[i] for i in 1:num_products, j in 1:num_weeks) -\n",
    "                      sum(inventory[i, j] * holding[j] for i in 1:num_materials, j in 1:num_weeks))\n",
    "\n",
    "# Demand constraints\n",
    "for i in 1:num_products\n",
    "    for j in 1:num_weeks\n",
    "        @constraint(model, x[i, j] <= demand[i, j])\n",
    "    end\n",
    "end\n",
    "\n",
    "# Material availability constraints\n",
    "for i in 1:num_materials\n",
    "    for j in 1:num_weeks\n",
    "        @constraint(model, inventory[i, j] + sum(x[k, j] * requirements[i, k] for k in 1:num_products) <= availability[i, j])\n",
    "    end\n",
    "end\n",
    "\n",
    "# Solve the model\n",
    "optimize!(model)\n",
    "\n",
    "# Extract results\n",
    "total_profit = objective_value(model)\n",
    "x_values = value.(x)\n",
    "inventory_values = value.(inventory)\n",
    "\n",
    "# Calculate total holding cost\n",
    "total_holding_cost = sum(inventory_values[i, j] * holding[j] for i in 1:num_materials, j in 1:num_weeks)\n",
    "\n",
    "# Print results\n",
    "println(\"Total Profit: \", total_profit)\n",
    "println(\"Total Holding Cost: \", total_holding_cost)\n"
   ]
  },
  {
   "cell_type": "code",
   "execution_count": null,
   "metadata": {},
   "outputs": [],
   "source": []
  }
 ],
 "metadata": {
  "kernelspec": {
   "display_name": "Julia 1.9.3",
   "language": "julia",
   "name": "julia-1.9"
  },
  "language_info": {
   "file_extension": ".jl",
   "mimetype": "application/julia",
   "name": "julia",
   "version": "1.9.3"
  },
  "orig_nbformat": 4
 },
 "nbformat": 4,
 "nbformat_minor": 2
}
